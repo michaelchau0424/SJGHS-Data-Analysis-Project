{
 "cells": [
  {
   "cell_type": "code",
   "execution_count": 60,
   "id": "48456b65",
   "metadata": {},
   "outputs": [],
   "source": [
    "import pandas as pd\n",
    "data_path = '../raw_data/'\n",
    "df = pd.read_excel(data_path + 'HCP Dataset for Case Study.xlsx')\n"
   ]
  },
  {
   "cell_type": "markdown",
   "id": "47f552cc",
   "metadata": {},
   "source": [
    "# Data cleaning with feature engineering"
   ]
  },
  {
   "cell_type": "code",
   "execution_count": 61,
   "id": "0659ee94",
   "metadata": {},
   "outputs": [],
   "source": [
    "# Get dates and time into a workable datetime format\n",
    "df['AdmissionDateTime'] = pd.to_datetime(df['AdmissionDate'].astype(str).str.zfill(8), format='%d%m%Y') + pd.to_timedelta(df['AdmissionTime'].astype(str).str.zfill(4).str[:2] + ':' + df['AdmissionTime'].astype(str).str.zfill(4).str[2:] + ':00')\n",
    "df['SeparationDateTime'] = pd.to_datetime(df['SeparationDate'].astype(str).str.zfill(8), format='%d%m%Y') + pd.to_timedelta(df['SeparationTime'].astype(str).str.zfill(4).str[:2] + ':' + df['AdmissionTime'].astype(str).str.zfill(4).str[2:] + ':00')\n",
    "df['DateOfBirth'] = pd.to_datetime(df['DateOfBirth'].astype(str).str.zfill(8), format='%d%m%Y')\n"
   ]
  },
  {
   "cell_type": "code",
   "execution_count": 62,
   "id": "3d32f602",
   "metadata": {},
   "outputs": [],
   "source": [
    "# Calculate time in hours for each episode (from admission to separation)\n",
    "df['EpisodeDurationHours'] = (df['SeparationDateTime'] - df['AdmissionDateTime']).dt.total_seconds() / 3600"
   ]
  },
  {
   "cell_type": "code",
   "execution_count": 63,
   "id": "c43ce4a5",
   "metadata": {},
   "outputs": [],
   "source": [
    "# transform date of birth into age as of admission date\n",
    "df['Age'] = (df['AdmissionDateTime'] - df['DateOfBirth']).dt.days // 365"
   ]
  },
  {
   "cell_type": "code",
   "execution_count": 64,
   "id": "057bc1c9",
   "metadata": {},
   "outputs": [
    {
     "data": {
      "text/plain": [
       "11"
      ]
     },
     "execution_count": 64,
     "metadata": {},
     "output_type": "execute_result"
    }
   ],
   "source": [
    "len(df[df['PrincipalDiagnosis'].astype(str).str.len() != 6]['PrincipalDiagnosis'].unique())"
   ]
  },
  {
   "cell_type": "code",
   "execution_count": 65,
   "id": "1d0bf4e3",
   "metadata": {},
   "outputs": [
    {
     "name": "stdout",
     "output_type": "stream",
     "text": [
      "                                   PrincipalDiagnosis  count\n",
      "0   1999999999999999854227564838689211149197336306...     16\n",
      "1         2000000000000000089771425356151833571098624     11\n",
      "2   1999999999999999984180772525672677016455122433...      9\n",
      "3          200000000000000001240017290081556638990336      3\n",
      "4   1999999999999999888335104945098667625499457407...      2\n",
      "5   1999999999999999968690075053594844794467049550...      2\n",
      "6   1999999999999999986441897348723255952923416883...      2\n",
      "7   2000000000000000029261390461349746061940085975...      1\n",
      "8                   200000000000000010732324408786944      1\n",
      "9   2000000000000000115715919885453939654786757378...      1\n",
      "10  2000000000000000065564491965724196497141410566...      1\n"
     ]
    }
   ],
   "source": [
    "# Principal Diagnosis Code Anomolies\n",
    "# get unique codes where length is not 6 (according to Data Specs)\n",
    "print(df[df['PrincipalDiagnosis'].astype(str).str.len() != 6]['PrincipalDiagnosis'].value_counts().reset_index())\n",
    "unique_anomoly_codes = df[df['PrincipalDiagnosis'].astype(str).str.len() != 6]['PrincipalDiagnosis'].unique()\n",
    "# replace the anomolous codes with separate dummy codes for ease of use\n",
    "replace_map = {\n",
    "    unique_anomoly_codes[i] : f'0A00{str(i).zfill(2)}' for i in range(len(unique_anomoly_codes))\n",
    "}\n",
    "df['PrincipalDiagnosis'] = df['PrincipalDiagnosis'].replace(replace_map)\n"
   ]
  },
  {
   "cell_type": "code",
   "execution_count": 66,
   "id": "3a4d5af2",
   "metadata": {},
   "outputs": [
    {
     "name": "stdout",
     "output_type": "stream",
     "text": [
      "Empty DataFrame\n",
      "Columns: [PrincipalDiagnosis, count]\n",
      "Index: []\n"
     ]
    }
   ],
   "source": [
    "print(df[df['PrincipalDiagnosis'].astype(str).str.len() != 6]['PrincipalDiagnosis'].value_counts().reset_index())\n"
   ]
  },
  {
   "cell_type": "code",
   "execution_count": 71,
   "id": "12258d91",
   "metadata": {},
   "outputs": [],
   "source": [
    "sex_map = {\n",
    "    1 : 'Male',\n",
    "    2 : 'Female',\n",
    "    3 : 'Other',\n",
    "    9 : 'N/A'\n",
    "}\n",
    "df['Sex'] = df['Sex'].replace(sex_map)"
   ]
  },
  {
   "cell_type": "code",
   "execution_count": 76,
   "id": "6db120d3",
   "metadata": {},
   "outputs": [],
   "source": [
    "# include only columns of interest for ease of use\n",
    "columns_of_interest = [\n",
    "    'EpisodeIdentifier',\n",
    "    'InsurerIdentifier',\n",
    "    'Age',\n",
    "    'Sex',\n",
    "    'AdmissionDateTime',\n",
    "    'SeparationDateTime',\n",
    "    'EpisodeDurationHours',\n",
    "    'PrincipalDiagnosis',\n",
    "]\n",
    "df_new = df[columns_of_interest]"
   ]
  },
  {
   "cell_type": "code",
   "execution_count": 77,
   "id": "17fdce8f",
   "metadata": {},
   "outputs": [
    {
     "data": {
      "text/html": [
       "<div>\n",
       "<style scoped>\n",
       "    .dataframe tbody tr th:only-of-type {\n",
       "        vertical-align: middle;\n",
       "    }\n",
       "\n",
       "    .dataframe tbody tr th {\n",
       "        vertical-align: top;\n",
       "    }\n",
       "\n",
       "    .dataframe thead th {\n",
       "        text-align: right;\n",
       "    }\n",
       "</style>\n",
       "<table border=\"1\" class=\"dataframe\">\n",
       "  <thead>\n",
       "    <tr style=\"text-align: right;\">\n",
       "      <th></th>\n",
       "      <th>EpisodeIdentifier</th>\n",
       "      <th>InsurerIdentifier</th>\n",
       "      <th>Age</th>\n",
       "      <th>Sex</th>\n",
       "      <th>AdmissionDateTime</th>\n",
       "      <th>SeparationDateTime</th>\n",
       "      <th>EpisodeDurationHours</th>\n",
       "      <th>PrincipalDiagnosis</th>\n",
       "    </tr>\n",
       "  </thead>\n",
       "  <tbody>\n",
       "    <tr>\n",
       "      <th>0</th>\n",
       "      <td>1624122</td>\n",
       "      <td>INS1</td>\n",
       "      <td>23</td>\n",
       "      <td>Male</td>\n",
       "      <td>2023-01-01 08:50:00</td>\n",
       "      <td>2023-01-02 09:50:00</td>\n",
       "      <td>25.0</td>\n",
       "      <td>2S620</td>\n",
       "    </tr>\n",
       "    <tr>\n",
       "      <th>1</th>\n",
       "      <td>1624177</td>\n",
       "      <td>INS5</td>\n",
       "      <td>86</td>\n",
       "      <td>Female</td>\n",
       "      <td>2023-01-01 13:30:00</td>\n",
       "      <td>2023-01-06 10:30:00</td>\n",
       "      <td>117.0</td>\n",
       "      <td>2J22</td>\n",
       "    </tr>\n",
       "    <tr>\n",
       "      <th>2</th>\n",
       "      <td>1624113</td>\n",
       "      <td>INS9</td>\n",
       "      <td>55</td>\n",
       "      <td>Female</td>\n",
       "      <td>2023-01-01 11:55:00</td>\n",
       "      <td>2023-01-09 11:55:00</td>\n",
       "      <td>192.0</td>\n",
       "      <td>2S8282</td>\n",
       "    </tr>\n",
       "    <tr>\n",
       "      <th>3</th>\n",
       "      <td>1624005</td>\n",
       "      <td></td>\n",
       "      <td>68</td>\n",
       "      <td>Male</td>\n",
       "      <td>2023-02-01 10:37:00</td>\n",
       "      <td>2023-02-01 14:37:00</td>\n",
       "      <td>4.0</td>\n",
       "      <td>2Z511</td>\n",
       "    </tr>\n",
       "    <tr>\n",
       "      <th>4</th>\n",
       "      <td>1625135</td>\n",
       "      <td></td>\n",
       "      <td>60</td>\n",
       "      <td>Male</td>\n",
       "      <td>2023-02-01 13:07:00</td>\n",
       "      <td>2023-02-01 14:07:00</td>\n",
       "      <td>1.0</td>\n",
       "      <td>2Z511</td>\n",
       "    </tr>\n",
       "    <tr>\n",
       "      <th>...</th>\n",
       "      <td>...</td>\n",
       "      <td>...</td>\n",
       "      <td>...</td>\n",
       "      <td>...</td>\n",
       "      <td>...</td>\n",
       "      <td>...</td>\n",
       "      <td>...</td>\n",
       "      <td>...</td>\n",
       "    </tr>\n",
       "    <tr>\n",
       "      <th>30610</th>\n",
       "      <td>1624133</td>\n",
       "      <td>INS1</td>\n",
       "      <td>72</td>\n",
       "      <td>Male</td>\n",
       "      <td>2022-12-31 15:00:00</td>\n",
       "      <td>2023-01-05 11:00:00</td>\n",
       "      <td>116.0</td>\n",
       "      <td>2I489</td>\n",
       "    </tr>\n",
       "    <tr>\n",
       "      <th>30611</th>\n",
       "      <td>1624139</td>\n",
       "      <td>INS1</td>\n",
       "      <td>94</td>\n",
       "      <td>Female</td>\n",
       "      <td>2022-12-31 16:30:00</td>\n",
       "      <td>2023-02-01 13:30:00</td>\n",
       "      <td>765.0</td>\n",
       "      <td>2F058</td>\n",
       "    </tr>\n",
       "    <tr>\n",
       "      <th>30612</th>\n",
       "      <td>1622697</td>\n",
       "      <td>INS2</td>\n",
       "      <td>55</td>\n",
       "      <td>Male</td>\n",
       "      <td>2022-12-31 13:25:00</td>\n",
       "      <td>2022-12-31 19:25:00</td>\n",
       "      <td>6.0</td>\n",
       "      <td>2Z491</td>\n",
       "    </tr>\n",
       "    <tr>\n",
       "      <th>30613</th>\n",
       "      <td>1622749</td>\n",
       "      <td>INS5</td>\n",
       "      <td>80</td>\n",
       "      <td>Male</td>\n",
       "      <td>2022-12-31 11:40:00</td>\n",
       "      <td>2022-12-31 16:40:00</td>\n",
       "      <td>5.0</td>\n",
       "      <td>2Z491</td>\n",
       "    </tr>\n",
       "    <tr>\n",
       "      <th>30614</th>\n",
       "      <td>1622694</td>\n",
       "      <td>INS8</td>\n",
       "      <td>76</td>\n",
       "      <td>Female</td>\n",
       "      <td>2022-12-31 07:00:00</td>\n",
       "      <td>2022-12-31 12:00:00</td>\n",
       "      <td>5.0</td>\n",
       "      <td>2Z491</td>\n",
       "    </tr>\n",
       "  </tbody>\n",
       "</table>\n",
       "<p>30615 rows × 8 columns</p>\n",
       "</div>"
      ],
      "text/plain": [
       "       EpisodeIdentifier InsurerIdentifier  Age     Sex   AdmissionDateTime  \\\n",
       "0                1624122              INS1   23    Male 2023-01-01 08:50:00   \n",
       "1                1624177              INS5   86  Female 2023-01-01 13:30:00   \n",
       "2                1624113              INS9   55  Female 2023-01-01 11:55:00   \n",
       "3                1624005                     68    Male 2023-02-01 10:37:00   \n",
       "4                1625135                     60    Male 2023-02-01 13:07:00   \n",
       "...                  ...               ...  ...     ...                 ...   \n",
       "30610            1624133              INS1   72    Male 2022-12-31 15:00:00   \n",
       "30611            1624139              INS1   94  Female 2022-12-31 16:30:00   \n",
       "30612            1622697              INS2   55    Male 2022-12-31 13:25:00   \n",
       "30613            1622749              INS5   80    Male 2022-12-31 11:40:00   \n",
       "30614            1622694              INS8   76  Female 2022-12-31 07:00:00   \n",
       "\n",
       "       SeparationDateTime  EpisodeDurationHours PrincipalDiagnosis  \n",
       "0     2023-01-02 09:50:00                  25.0             2S620   \n",
       "1     2023-01-06 10:30:00                 117.0             2J22    \n",
       "2     2023-01-09 11:55:00                 192.0             2S8282  \n",
       "3     2023-02-01 14:37:00                   4.0             2Z511   \n",
       "4     2023-02-01 14:07:00                   1.0             2Z511   \n",
       "...                   ...                   ...                ...  \n",
       "30610 2023-01-05 11:00:00                 116.0             2I489   \n",
       "30611 2023-02-01 13:30:00                 765.0             2F058   \n",
       "30612 2022-12-31 19:25:00                   6.0             2Z491   \n",
       "30613 2022-12-31 16:40:00                   5.0             2Z491   \n",
       "30614 2022-12-31 12:00:00                   5.0             2Z491   \n",
       "\n",
       "[30615 rows x 8 columns]"
      ]
     },
     "execution_count": 77,
     "metadata": {},
     "output_type": "execute_result"
    }
   ],
   "source": [
    "df_new"
   ]
  }
 ],
 "metadata": {
  "kernelspec": {
   "display_name": "SJGHC",
   "language": "python",
   "name": "python3"
  },
  "language_info": {
   "codemirror_mode": {
    "name": "ipython",
    "version": 3
   },
   "file_extension": ".py",
   "mimetype": "text/x-python",
   "name": "python",
   "nbconvert_exporter": "python",
   "pygments_lexer": "ipython3",
   "version": "3.12.11"
  }
 },
 "nbformat": 4,
 "nbformat_minor": 5
}
